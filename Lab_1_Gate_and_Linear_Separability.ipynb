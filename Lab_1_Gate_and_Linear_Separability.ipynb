{
  "nbformat": 4,
  "nbformat_minor": 0,
  "metadata": {
    "colab": {
      "provenance": [],
      "authorship_tag": "ABX9TyPGRur4XJf2xbV6PgFc3O0Q",
      "include_colab_link": true
    },
    "kernelspec": {
      "name": "python3",
      "display_name": "Python 3"
    },
    "language_info": {
      "name": "python"
    }
  },
  "cells": [
    {
      "cell_type": "markdown",
      "metadata": {
        "id": "view-in-github",
        "colab_type": "text"
      },
      "source": [
        "<a href=\"https://colab.research.google.com/github/vibnn/verydeep/blob/main/Lab_1_Gate_and_Linear_Separability.ipynb\" target=\"_parent\"><img src=\"https://colab.research.google.com/assets/colab-badge.svg\" alt=\"Open In Colab\"/></a>"
      ]
    },
    {
      "cell_type": "code",
      "execution_count": null,
      "metadata": {
        "id": "0srbMeXTXtJt"
      },
      "outputs": [],
      "source": [
        "import numpy as np\n",
        "import matplotlib.pyplot as plt\n",
        "from itertools import product"
      ]
    },
    {
      "cell_type": "code",
      "source": [
        "inp = np.random.choice([0, 1], 3)\n",
        "bias = 2 \n",
        "print('inputs: ', inp, '\\nbias: ', bias)"
      ],
      "metadata": {
        "colab": {
          "base_uri": "https://localhost:8080/"
        },
        "id": "7d2sLAHWYQjX",
        "outputId": "c561cacd-0c86-4a5a-df51-3fd38308001a"
      },
      "execution_count": null,
      "outputs": [
        {
          "output_type": "stream",
          "name": "stdout",
          "text": [
            "inputs:  [1 1 0] \n",
            "bias:  2\n"
          ]
        }
      ]
    },
    {
      "cell_type": "code",
      "source": [
        "x = [0, 0, 1, 1]\n",
        "y = [0, 1, 0, 1]"
      ],
      "metadata": {
        "id": "RTBhgqePfiKA"
      },
      "execution_count": null,
      "outputs": []
    },
    {
      "cell_type": "markdown",
      "source": [
        "### AND Gate"
      ],
      "metadata": {
        "id": "_RQ6j0daauvs"
      }
    },
    {
      "cell_type": "code",
      "source": [
        "firing_cases = []\n",
        "not_firing_cases = []\n",
        "and_threshold = 2 # min sum value when result is True\n",
        "colors = []\n",
        "for idx in range(0, len(x)):\n",
        "\n",
        "    if x[idx] + y[idx] >= and_threshold:\n",
        "\n",
        "        firing_cases.append((x, y))\n",
        "        colors.append([0, 255, 0])\n",
        "    else:\n",
        "        not_firing_cases.append((x, y))\n",
        "        colors.append([255, 0, 0])\n",
        "    print((x[idx], y[idx]), np.logical_and(x[idx], y[idx]))"
      ],
      "metadata": {
        "colab": {
          "base_uri": "https://localhost:8080/"
        },
        "id": "A1nAtg-jZhm_",
        "outputId": "01d8fb33-3be0-4960-9fc7-fed4f50a85a5"
      },
      "execution_count": null,
      "outputs": [
        {
          "output_type": "stream",
          "name": "stdout",
          "text": [
            "(0, 0) False\n",
            "(0, 1) False\n",
            "(1, 0) False\n",
            "(1, 1) True\n"
          ]
        }
      ]
    },
    {
      "cell_type": "markdown",
      "source": [
        "### Plot the gates"
      ],
      "metadata": {
        "id": "kWwasW11b52J"
      }
    },
    {
      "cell_type": "code",
      "source": [],
      "metadata": {
        "id": "kOmbxHffgtmj"
      },
      "execution_count": null,
      "outputs": []
    },
    {
      "cell_type": "code",
      "source": [
        "X = np.linspace(0, 1, 10)\n",
        "Y = np.linspace(0, 1, 10)\n",
        "\n",
        "colors = np.array(colors)\n",
        "plt.scatter(x, y, c = colors/255.0)\n",
        "line_x  = [-0.25, 1.35]\n",
        "line_y = [1.5, -0.25]\n",
        "plt.plot(line_x, line_y)\n",
        "plt.plot([-0.25,1.5],[0,0],color='k')\n",
        "plt.plot([0,0],[-0.2,1.5],color='k')"
      ],
      "metadata": {
        "colab": {
          "base_uri": "https://localhost:8080/",
          "height": 282
        },
        "id": "9YN_jFLPa7sj",
        "outputId": "1648da94-7af1-40d6-fd1c-be8d44da0791"
      },
      "execution_count": null,
      "outputs": [
        {
          "output_type": "execute_result",
          "data": {
            "text/plain": [
              "[<matplotlib.lines.Line2D at 0x7f1da980b510>]"
            ]
          },
          "metadata": {},
          "execution_count": 67
        },
        {
          "output_type": "display_data",
          "data": {
            "text/plain": [
              "<Figure size 432x288 with 1 Axes>"
            ],
            "image/png": "[encoded data removed]"
          },
          "metadata": {
            "needs_background": "light"
          }
        }
      ]
    },
    {
      "cell_type": "markdown",
      "source": [
        "### OR Gate"
      ],
      "metadata": {
        "id": "JqNKHw8Xb1s2"
      }
    },
    {
      "cell_type": "code",
      "source": [
        "firing_cases = []\n",
        "not_firing_cases = []\n",
        "and_threshold = 1 # min sum value when result is True\n",
        "colors = []\n",
        "for idx in range(0, len(x)):\n",
        "\n",
        "    if x[idx] + y[idx] >= and_threshold:\n",
        "\n",
        "        firing_cases.append((x, y))\n",
        "        colors.append([0, 255, 0])\n",
        "    else:\n",
        "        not_firing_cases.append((x, y))\n",
        "        colors.append([255, 0, 0])\n",
        "    print((x[idx], y[idx]), np.logical_and(x[idx], y[idx]))"
      ],
      "metadata": {
        "colab": {
          "base_uri": "https://localhost:8080/"
        },
        "id": "yEoiQVKraXu3",
        "outputId": "70bb2cc0-0a29-4833-e57e-83bf52e7d213"
      },
      "execution_count": null,
      "outputs": [
        {
          "output_type": "stream",
          "name": "stdout",
          "text": [
            "(0, 0) False\n",
            "(0, 1) False\n",
            "(1, 0) False\n",
            "(1, 1) True\n"
          ]
        }
      ]
    },
    {
      "cell_type": "code",
      "source": [
        "X = np.linspace(0, 1, 10)\n",
        "Y = np.linspace(0, 1, 10)\n",
        "\n",
        "colors = np.array(colors)\n",
        "plt.scatter(x, y, c = colors/255.0)\n",
        "line_x  = [-0.25, 0.75]\n",
        "line_y = [0.75, -0.25]\n",
        "plt.plot(line_x, line_y)\n",
        "plt.plot([-0.25,1.5],[0,0],color='k')\n",
        "plt.plot([0,0],[-0.2,1.5],color='k')"
      ],
      "metadata": {
        "colab": {
          "base_uri": "https://localhost:8080/",
          "height": 282
        },
        "id": "qc961hj0ck7R",
        "outputId": "3db92e69-1e56-4ffb-873e-2373434b8aea"
      },
      "execution_count": null,
      "outputs": [
        {
          "output_type": "execute_result",
          "data": {
            "text/plain": [
              "[<matplotlib.lines.Line2D at 0x7f1da9e57e90>]"
            ]
          },
          "metadata": {},
          "execution_count": 66
        },
        {
          "output_type": "display_data",
          "data": {
            "text/plain": [
              "<Figure size 432x288 with 1 Axes>"
            ],
            "image/png": "[encoded data removed]"
          },
          "metadata": {
            "needs_background": "light"
          }
        }
      ]
    },
    {
      "cell_type": "markdown",
      "source": [
        "### Horner's Method"
      ],
      "metadata": {
        "id": "dXPmruE1iafM"
      }
    },
    {
      "cell_type": "code",
      "source": [
        "import tensorflow as tf\n",
        "import numpy as np\n",
        "import matplotlib as plt\n",
        "import cmath\n",
        "import time"
      ],
      "metadata": {
        "id": "omGhrK4Wic6e"
      },
      "execution_count": null,
      "outputs": []
    },
    {
      "cell_type": "code",
      "source": [
        "#p(x) = coeffs[n-1] + x * (coeffs[n-2] + ... + x * (coeffs[1] + x * coeffs[0]))"
      ],
      "metadata": {
        "id": "x1uHkSjFihzL"
      },
      "execution_count": null,
      "outputs": []
    },
    {
      "cell_type": "code",
      "source": [
        "coeff = [1, -4, 4]\n",
        "print('coefficients', coeff)\n",
        "\n",
        "roots = np.roots(coeff)\n",
        "print(roots)"
      ],
      "metadata": {
        "colab": {
          "base_uri": "https://localhost:8080/"
        },
        "id": "Z5tpN2K2iqF5",
        "outputId": "20f73dd9-2ba0-4594-a208-228294298606"
      },
      "execution_count": null,
      "outputs": [
        {
          "output_type": "stream",
          "name": "stdout",
          "text": [
            "coefficients [1, -4, 4]\n",
            "[2. 2.]\n"
          ]
        }
      ]
    },
    {
      "cell_type": "code",
      "source": [
        "x = 5\n",
        "res = tf.math.polyval(coeff, x)\n",
        "print('Result', res)"
      ],
      "metadata": {
        "colab": {
          "base_uri": "https://localhost:8080/"
        },
        "id": "SAxGyDMniyNw",
        "outputId": "21339f57-8e78-473d-c51b-f4a743eaf375"
      },
      "execution_count": null,
      "outputs": [
        {
          "output_type": "stream",
          "name": "stdout",
          "text": [
            "Result tf.Tensor(9, shape=(), dtype=int32)\n"
          ]
        }
      ]
    }
  ]
}